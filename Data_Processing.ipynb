{
 "cells": [
  {
   "cell_type": "code",
   "execution_count": 38,
   "id": "bb5616ac",
   "metadata": {},
   "outputs": [],
   "source": [
    "import os\n",
    "\n",
    "file_path = 'C:/Users/User/Desktop/datasets/burqa'\n",
    "file_names = os.listdir(file_path)\n",
    "\n",
    "i = 101\n",
    "for name in file_names:\n",
    "    src = os.path.join(file_path, name)\n",
    "    dst = str(i) + '.jpg'\n",
    "    dst = os.path.join(file_path, dst)\n",
    "    os.rename(src, dst)\n",
    "    i += 1\n",
    "\n",
    "\n",
    "                "
   ]
  },
  {
   "cell_type": "code",
   "execution_count": 39,
   "id": "7b2b0f22",
   "metadata": {},
   "outputs": [
    {
     "name": "stdout",
     "output_type": "stream",
     "text": [
      "중복된 이미지가 없습니다.\n"
     ]
    }
   ],
   "source": [
    "import os\n",
    "import hashlib\n",
    "\n",
    "def find_duplicate_images(folder_path):\n",
    "    file_hashes = {}\n",
    "    duplicate_images = []\n",
    "\n",
    "    for root, dirs, files in os.walk(folder_path):\n",
    "        for file in files:\n",
    "            file_path = os.path.join(root, file)\n",
    "            with open(file_path, 'rb') as f:\n",
    "                file_hash = hashlib.md5(f.read()).hexdigest()\n",
    "            if file_hash in file_hashes:\n",
    "                duplicate_images.append(file_path)\n",
    "            else:\n",
    "                file_hashes[file_hash] = file_path\n",
    "    \n",
    "    return duplicate_images\n",
    "\n",
    "folder_path = 'C:/Users/User/Desktop/datasets/burqa'\n",
    "duplicates = find_duplicate_images(folder_path)\n",
    "\n",
    "if duplicates:\n",
    "    print(\"Duplicate images have been detected.:\")\n",
    "    for image in duplicates:\n",
    "        print(image)\n",
    "else:\n",
    "    print(\"There are no duplicate images..\")"
   ]
  },
  {
   "cell_type": "code",
   "execution_count": 45,
   "id": "5732a939",
   "metadata": {},
   "outputs": [],
   "source": [
    "import os\n",
    "\n",
    "file_path = 'C:/Users/User/Desktop/datasets/chador'\n",
    "file_names = os.listdir(file_path)\n",
    "\n",
    "i = 101\n",
    "for name in file_names:\n",
    "    src = os.path.join(file_path, name)\n",
    "    dst = str(i) + '.jpg'\n",
    "    dst = os.path.join(file_path, dst)\n",
    "    os.rename(src, dst)\n",
    "    i += 1\n",
    "\n",
    "\n",
    "                "
   ]
  },
  {
   "cell_type": "code",
   "execution_count": 46,
   "id": "178f7596",
   "metadata": {},
   "outputs": [
    {
     "name": "stdout",
     "output_type": "stream",
     "text": [
      "중복된 이미지가 없습니다.\n"
     ]
    }
   ],
   "source": [
    "import os\n",
    "import hashlib\n",
    "\n",
    "def find_duplicate_images(folder_path):\n",
    "    file_hashes = {}\n",
    "    duplicate_images = []\n",
    "\n",
    "    for root, dirs, files in os.walk(folder_path):\n",
    "        for file in files:\n",
    "            file_path = os.path.join(root, file)\n",
    "            with open(file_path, 'rb') as f:\n",
    "                file_hash = hashlib.md5(f.read()).hexdigest()\n",
    "            if file_hash in file_hashes:\n",
    "                duplicate_images.append(file_path)\n",
    "            else:\n",
    "                file_hashes[file_hash] = file_path\n",
    "    \n",
    "    return duplicate_images\n",
    "\n",
    "folder_path = 'C:/Users/User/Desktop/datasets/chador'\n",
    "duplicates = find_duplicate_images(folder_path)\n",
    "\n",
    "if duplicates:\n",
    "    print(\"Duplicate images have been detected.\")\n",
    "    for image in duplicates:\n",
    "        print(image)\n",
    "else:\n",
    "    print(\"There are no duplicate images..\")"
   ]
  },
  {
   "cell_type": "code",
   "execution_count": 28,
   "id": "e1323abe",
   "metadata": {},
   "outputs": [],
   "source": [
    "i = 0"
   ]
  },
  {
   "cell_type": "code",
   "execution_count": 29,
   "id": "de00d869",
   "metadata": {},
   "outputs": [],
   "source": [
    "# mask 처리\n",
    "import os\n",
    "\n",
    "file_path = '/Users/min_leon/Downloads/추가 데이터셋/mask'\n",
    "file_names = os.listdir(file_path)\n",
    "\n",
    "i = 1\n",
    "for name in file_names:\n",
    "    src = os.path.join(file_path, name)\n",
    "    dst = 'mask'+ str(i) + '.jpg'\n",
    "    dst = os.path.join(file_path, dst)\n",
    "    os.rename(src, dst)\n",
    "    i += 1                "
   ]
  },
  {
   "cell_type": "code",
   "execution_count": 6,
   "id": "b9466803",
   "metadata": {},
   "outputs": [
    {
     "name": "stdout",
     "output_type": "stream",
     "text": [
      "중복된 이미지가 없습니다.\n"
     ]
    }
   ],
   "source": [
    "import os\n",
    "import hashlib\n",
    "\n",
    "def find_duplicate_images(folder_path):\n",
    "    file_hashes = {}\n",
    "    duplicate_images = []\n",
    "\n",
    "    for root, dirs, files in os.walk(folder_path):\n",
    "        for file in files:\n",
    "            file_path = os.path.join(root, file)\n",
    "            with open(file_path, 'rb') as f:\n",
    "                file_hash = hashlib.md5(f.read()).hexdigest()\n",
    "            if file_hash in file_hashes:\n",
    "                duplicate_images.append(file_path)\n",
    "            else:\n",
    "                file_hashes[file_hash] = file_path\n",
    "    \n",
    "    return duplicate_images\n",
    "\n",
    "folder_path = '/Users/min_leon/Downloads/추가 데이터셋/mask'\n",
    "duplicates = find_duplicate_images(folder_path)\n",
    "\n",
    "if duplicates:\n",
    "    print(\"Duplicate images have been detected.\")\n",
    "    for image in duplicates:\n",
    "        print(image)\n",
    "else:\n",
    "    print(\"There are no duplicate images..\")"
   ]
  },
  {
   "cell_type": "code",
   "execution_count": 56,
   "id": "aa1326f0",
   "metadata": {},
   "outputs": [],
   "source": [
    "# niqab 처리\n",
    "import os\n",
    "\n",
    "file_path = 'C:/Users/User/Desktop/datasets/niqab'\n",
    "file_names = os.listdir(file_path)\n",
    "\n",
    "i = 101\n",
    "for name in file_names:\n",
    "    src = os.path.join(file_path, name)\n",
    "    dst = str(i) + '.jpg'\n",
    "    dst = os.path.join(file_path, dst)\n",
    "    os.rename(src, dst)\n",
    "    i += 1             "
   ]
  },
  {
   "cell_type": "code",
   "execution_count": 57,
   "id": "ffc49905",
   "metadata": {},
   "outputs": [
    {
     "name": "stdout",
     "output_type": "stream",
     "text": [
      "중복된 이미지가 없습니다.\n",
      "총 중복이미지 개수: 0\n"
     ]
    }
   ],
   "source": [
    "import os\n",
    "import hashlib\n",
    "\n",
    "def find_duplicate_images(folder_path):\n",
    "    file_hashes = {}\n",
    "    duplicate_images = []\n",
    "    \n",
    "    for root, dirs, files in os.walk(folder_path):\n",
    "        for file in files:\n",
    "            file_path = os.path.join(root, file)\n",
    "            with open(file_path, 'rb') as f:\n",
    "                file_hash = hashlib.md5(f.read()).hexdigest()\n",
    "            if file_hash in file_hashes:\n",
    "                duplicate_images.append(file_path)\n",
    "                # os.remove(file_path)\n",
    "            else:\n",
    "                file_hashes[file_hash] = file_path\n",
    "    \n",
    "    return duplicate_images\n",
    "\n",
    "folder_path = 'C:/Users/User/Desktop/datasets/niqab'\n",
    "duplicates = find_duplicate_images(folder_path)\n",
    "\n",
    "if duplicates:\n",
    "    print(\"Duplicate images have been detected.\")\n",
    "    for image in duplicates:\n",
    "        print(image)\n",
    "else:\n",
    "    print(\"There are no duplicate images..\")\n",
    "    \n",
    "print(f'Total Duplicate images: {len(duplicates)}')"
   ]
  },
  {
   "cell_type": "code",
   "execution_count": 36,
   "id": "6a98f21c",
   "metadata": {},
   "outputs": [
    {
     "name": "stdout",
     "output_type": "stream",
     "text": [
      "중복된 이미지가 없습니다.\n",
      "총 중복이미지 개수: 0\n"
     ]
    }
   ],
   "source": [
    "import os\n",
    "import hashlib\n",
    "\n",
    "def find_duplicate_images(folder_path):\n",
    "    file_hashes = {}\n",
    "    duplicate_images = []\n",
    "    \n",
    "    for root, dirs, files in os.walk(folder_path):\n",
    "        for file in files:\n",
    "            file_path = os.path.join(root, file)\n",
    "            with open(file_path, 'rb') as f:\n",
    "                file_hash = hashlib.md5(f.read()).hexdigest()\n",
    "            if file_hash in file_hashes:\n",
    "                duplicate_images.append(file_path)\n",
    "            else:\n",
    "                file_hashes[file_hash] = file_path\n",
    "    \n",
    "    return duplicate_images\n",
    "\n",
    "folder_path = 'C:/Users/User/Desktop/니깝'\n",
    "duplicates = find_duplicate_images(folder_path)\n",
    "\n",
    "if duplicates:\n",
    "    print(\"Duplicate images have been detected.\")\n",
    "    for image in duplicates:\n",
    "        print(image)\n",
    "else:\n",
    "    print(\"There are no duplicate images..\")\n",
    "    \n",
    "print(f'Total Duplicate images: {len(duplicates)}')"
   ]
  },
  {
   "cell_type": "code",
   "execution_count": null,
   "id": "5e403a98",
   "metadata": {},
   "outputs": [],
   "source": []
  }
 ],
 "metadata": {
  "kernelspec": {
   "display_name": "Python 3 (ipykernel)",
   "language": "python",
   "name": "python3"
  },
  "language_info": {
   "codemirror_mode": {
    "name": "ipython",
    "version": 3
   },
   "file_extension": ".py",
   "mimetype": "text/x-python",
   "name": "python",
   "nbconvert_exporter": "python",
   "pygments_lexer": "ipython3",
   "version": "3.10.11"
  }
 },
 "nbformat": 4,
 "nbformat_minor": 5
}
