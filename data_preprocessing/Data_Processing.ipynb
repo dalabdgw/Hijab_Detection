{
 "cells": [
  {
   "cell_type": "markdown",
   "id": "6b18b92d",
   "metadata": {},
   "source": [
    "# Library"
   ]
  },
  {
   "cell_type": "code",
   "execution_count": 2,
   "id": "b24b1bdb",
   "metadata": {},
   "outputs": [],
   "source": [
    "import os\n",
    "import hashlib"
   ]
  },
  {
   "cell_type": "markdown",
   "id": "7a6f4897",
   "metadata": {},
   "source": [
    "# Path"
   ]
  },
  {
   "cell_type": "code",
   "execution_count": 3,
   "id": "bb5616ac",
   "metadata": {},
   "outputs": [
    {
     "name": "stdout",
     "output_type": "stream",
     "text": [
      "-------------------------------------------------------current directory-----------------------------------------------------\n",
      "\n",
      "\n",
      "index:  0    !!!directory:  C:\\Users\\User\\Desktop\\공유폴더\\github_files\\hijab_detection\\data_preprocessing !!!directory_name:  hijab_data_processing\n",
      "index:  1    !!!directory:  C:\\Users\\User\\Desktop\\공유폴더\\github_files\\hijab_detection\\data_preprocessing\\hijab_data_processing !!!directory_name:  images\n",
      "index:  2    !!!directory:  C:\\Users\\User\\Desktop\\공유폴더\\github_files\\hijab_detection\\data_preprocessing\\hijab_data_processing !!!directory_name:  labels\n",
      "index:  3    !!!directory:  C:\\Users\\User\\Desktop\\공유폴더\\github_files\\hijab_detection\\data_preprocessing\\hijab_data_processing\\images !!!directory_name:  test-current\n",
      "index:  4    !!!directory:  C:\\Users\\User\\Desktop\\공유폴더\\github_files\\hijab_detection\\data_preprocessing\\hijab_data_processing\\images !!!directory_name:  test-past\n",
      "index:  5    !!!directory:  C:\\Users\\User\\Desktop\\공유폴더\\github_files\\hijab_detection\\data_preprocessing\\hijab_data_processing\\images !!!directory_name:  train\n",
      "index:  6    !!!directory:  C:\\Users\\User\\Desktop\\공유폴더\\github_files\\hijab_detection\\data_preprocessing\\hijab_data_processing\\images !!!directory_name:  val\n",
      "index:  7    !!!directory:  C:\\Users\\User\\Desktop\\공유폴더\\github_files\\hijab_detection\\data_preprocessing\\hijab_data_processing\\images\\test-current !!!directory_name:  burqz\n",
      "index:  8    !!!directory:  C:\\Users\\User\\Desktop\\공유폴더\\github_files\\hijab_detection\\data_preprocessing\\hijab_data_processing\\images\\test-current !!!directory_name:  chador\n",
      "index:  9    !!!directory:  C:\\Users\\User\\Desktop\\공유폴더\\github_files\\hijab_detection\\data_preprocessing\\hijab_data_processing\\images\\test-current !!!directory_name:  mask\n",
      "index:  10    !!!directory:  C:\\Users\\User\\Desktop\\공유폴더\\github_files\\hijab_detection\\data_preprocessing\\hijab_data_processing\\images\\test-current !!!directory_name:  niqab\n",
      "index:  11    !!!directory:  C:\\Users\\User\\Desktop\\공유폴더\\github_files\\hijab_detection\\data_preprocessing\\hijab_data_processing\\images\\test-past !!!directory_name:  burqz\n",
      "index:  12    !!!directory:  C:\\Users\\User\\Desktop\\공유폴더\\github_files\\hijab_detection\\data_preprocessing\\hijab_data_processing\\images\\test-past !!!directory_name:  chador\n",
      "index:  13    !!!directory:  C:\\Users\\User\\Desktop\\공유폴더\\github_files\\hijab_detection\\data_preprocessing\\hijab_data_processing\\images\\test-past !!!directory_name:  mask\n",
      "index:  14    !!!directory:  C:\\Users\\User\\Desktop\\공유폴더\\github_files\\hijab_detection\\data_preprocessing\\hijab_data_processing\\images\\test-past !!!directory_name:  niqab\n",
      "index:  15    !!!directory:  C:\\Users\\User\\Desktop\\공유폴더\\github_files\\hijab_detection\\data_preprocessing\\hijab_data_processing\\images\\train !!!directory_name:  burqz\n",
      "index:  16    !!!directory:  C:\\Users\\User\\Desktop\\공유폴더\\github_files\\hijab_detection\\data_preprocessing\\hijab_data_processing\\images\\train !!!directory_name:  chador\n",
      "index:  17    !!!directory:  C:\\Users\\User\\Desktop\\공유폴더\\github_files\\hijab_detection\\data_preprocessing\\hijab_data_processing\\images\\train !!!directory_name:  mask\n",
      "index:  18    !!!directory:  C:\\Users\\User\\Desktop\\공유폴더\\github_files\\hijab_detection\\data_preprocessing\\hijab_data_processing\\images\\train !!!directory_name:  niqab\n",
      "index:  19    !!!directory:  C:\\Users\\User\\Desktop\\공유폴더\\github_files\\hijab_detection\\data_preprocessing\\hijab_data_processing\\images\\val !!!directory_name:  burqz\n",
      "index:  20    !!!directory:  C:\\Users\\User\\Desktop\\공유폴더\\github_files\\hijab_detection\\data_preprocessing\\hijab_data_processing\\images\\val !!!directory_name:  chador\n",
      "index:  21    !!!directory:  C:\\Users\\User\\Desktop\\공유폴더\\github_files\\hijab_detection\\data_preprocessing\\hijab_data_processing\\images\\val !!!directory_name:  mask\n",
      "index:  22    !!!directory:  C:\\Users\\User\\Desktop\\공유폴더\\github_files\\hijab_detection\\data_preprocessing\\hijab_data_processing\\images\\val !!!directory_name:  niqab\n",
      "index:  23    !!!directory:  C:\\Users\\User\\Desktop\\공유폴더\\github_files\\hijab_detection\\data_preprocessing\\hijab_data_processing\\labels !!!directory_name:  test\n",
      "index:  24    !!!directory:  C:\\Users\\User\\Desktop\\공유폴더\\github_files\\hijab_detection\\data_preprocessing\\hijab_data_processing\\labels !!!directory_name:  train\n",
      "index:  25    !!!directory:  C:\\Users\\User\\Desktop\\공유폴더\\github_files\\hijab_detection\\data_preprocessing\\hijab_data_processing\\labels !!!directory_name:  val\n",
      "index:  26    !!!directory:  C:\\Users\\User\\Desktop\\공유폴더\\github_files\\hijab_detection\\data_preprocessing\\hijab_data_processing\\labels\\test !!!directory_name:  burqz\n",
      "index:  27    !!!directory:  C:\\Users\\User\\Desktop\\공유폴더\\github_files\\hijab_detection\\data_preprocessing\\hijab_data_processing\\labels\\test !!!directory_name:  chador\n",
      "index:  28    !!!directory:  C:\\Users\\User\\Desktop\\공유폴더\\github_files\\hijab_detection\\data_preprocessing\\hijab_data_processing\\labels\\test !!!directory_name:  mask\n",
      "index:  29    !!!directory:  C:\\Users\\User\\Desktop\\공유폴더\\github_files\\hijab_detection\\data_preprocessing\\hijab_data_processing\\labels\\test !!!directory_name:  niqab\n",
      "index:  30    !!!directory:  C:\\Users\\User\\Desktop\\공유폴더\\github_files\\hijab_detection\\data_preprocessing\\hijab_data_processing\\labels\\train !!!directory_name:  burqz\n",
      "index:  31    !!!directory:  C:\\Users\\User\\Desktop\\공유폴더\\github_files\\hijab_detection\\data_preprocessing\\hijab_data_processing\\labels\\train !!!directory_name:  chador\n",
      "index:  32    !!!directory:  C:\\Users\\User\\Desktop\\공유폴더\\github_files\\hijab_detection\\data_preprocessing\\hijab_data_processing\\labels\\train !!!directory_name:  mask\n",
      "index:  33    !!!directory:  C:\\Users\\User\\Desktop\\공유폴더\\github_files\\hijab_detection\\data_preprocessing\\hijab_data_processing\\labels\\train !!!directory_name:  niqab\n",
      "index:  34    !!!directory:  C:\\Users\\User\\Desktop\\공유폴더\\github_files\\hijab_detection\\data_preprocessing\\hijab_data_processing\\labels\\val !!!directory_name:  burqz\n",
      "index:  35    !!!directory:  C:\\Users\\User\\Desktop\\공유폴더\\github_files\\hijab_detection\\data_preprocessing\\hijab_data_processing\\labels\\val !!!directory_name:  chador\n",
      "index:  36    !!!directory:  C:\\Users\\User\\Desktop\\공유폴더\\github_files\\hijab_detection\\data_preprocessing\\hijab_data_processing\\labels\\val !!!directory_name:  mask\n",
      "index:  37    !!!directory:  C:\\Users\\User\\Desktop\\공유폴더\\github_files\\hijab_detection\\data_preprocessing\\hijab_data_processing\\labels\\val !!!directory_name:  niqab\n",
      "C:\\Users\\User\\Desktop\\공유폴더\\github_files\\hijab_detection\\data_preprocessing\n",
      "C:\\Users\\User\\Desktop\\공유폴더\\github_files\\hijab_detection\\data_preprocessing\\hijab_data_processing\n"
     ]
    }
   ],
   "source": [
    "# find current directory\n",
    "cur_dir = os.getcwd()\n",
    "# print file sturcture\n",
    "cnt = 0\n",
    "directory_list = []\n",
    "print(\"-------------------------------------------------------current directory-----------------------------------------------------\")\n",
    "print()\n",
    "print()\n",
    "for currentdir, dirs, files in os.walk(cur_dir):\n",
    "    for dir_s in dirs:\n",
    "        if dir_s == '.ipynb_checkpoints':\n",
    "            continue\n",
    "        print(\"index: \",cnt,\"  \",\"!!!directory: \", currentdir, \"!!!directory_name: \",dir_s)\n",
    "        cnt+=1\n",
    "        directory_list.append(currentdir)\n",
    "\n",
    "# you can access directory using directory_list!\n",
    "# example\n",
    "print(directory_list[0])        \n",
    "print(directory_list[1])          "
   ]
  },
  {
   "cell_type": "markdown",
   "id": "39c6d76e",
   "metadata": {},
   "source": [
    "# find duplicate images\n",
    "\n",
    "\n",
    "## find_duplicate_images(folder_path) -> function\n",
    "- parameter : folder_path \n",
    "- result \n",
    "    - if duplicate images detected -> Occur error message and print image\n",
    "    - else -> occur happy message!"
   ]
  },
  {
   "cell_type": "code",
   "execution_count": 30,
   "id": "59ff4a36",
   "metadata": {},
   "outputs": [],
   "source": [
    "def find_duplicate_images(folder_path):\n",
    "    file_hashes = {}\n",
    "    duplicate_images = []\n",
    "\n",
    "    for root, dirs, files in os.walk(folder_path):\n",
    "        for file in files:\n",
    "            file_path = os.path.join(root, file)\n",
    "            with open(file_path, 'rb') as f:\n",
    "                file_hash = hashlib.md5(f.read()).hexdigest()\n",
    "            if file_hash in file_hashes:\n",
    "                duplicate_images.append(file_path)\n",
    "            else:\n",
    "                file_hashes[file_hash] = file_path\n",
    "    if duplicates:\n",
    "        print(\"Duplicate images have been detected.:\")\n",
    "        for image in duplicates:\n",
    "            print(image)\n",
    "        return 1\n",
    "    else:\n",
    "        print(\"There are no duplicate images..\")\n",
    "        return 0"
   ]
  },
  {
   "cell_type": "code",
   "execution_count": 5,
   "id": "18b9549b",
   "metadata": {},
   "outputs": [
    {
     "ename": "FileExistsError",
     "evalue": "[WinError 183] 파일이 이미 있으므로 만들 수 없습니다: './raw_data/chador\\\\.DS_Store' -> './raw_data/chador\\\\101.jpg'",
     "output_type": "error",
     "traceback": [
      "\u001b[1;31m---------------------------------------------------------------------------\u001b[0m",
      "\u001b[1;31mFileExistsError\u001b[0m                           Traceback (most recent call last)",
      "Cell \u001b[1;32mIn[5], line 20\u001b[0m\n\u001b[0;32m     18\u001b[0m     dst \u001b[38;5;241m=\u001b[39m \u001b[38;5;28mstr\u001b[39m(i) \u001b[38;5;241m+\u001b[39m \u001b[38;5;124m'\u001b[39m\u001b[38;5;124m.jpg\u001b[39m\u001b[38;5;124m'\u001b[39m\n\u001b[0;32m     19\u001b[0m     dst \u001b[38;5;241m=\u001b[39m os\u001b[38;5;241m.\u001b[39mpath\u001b[38;5;241m.\u001b[39mjoin(file_path_chador, dst)\n\u001b[1;32m---> 20\u001b[0m     \u001b[43mos\u001b[49m\u001b[38;5;241;43m.\u001b[39;49m\u001b[43mrename\u001b[49m\u001b[43m(\u001b[49m\u001b[43msrc\u001b[49m\u001b[43m,\u001b[49m\u001b[43m \u001b[49m\u001b[43mdst\u001b[49m\u001b[43m)\u001b[49m\n\u001b[0;32m     21\u001b[0m     i \u001b[38;5;241m+\u001b[39m\u001b[38;5;241m=\u001b[39m \u001b[38;5;241m1\u001b[39m     \n\u001b[0;32m     23\u001b[0m i \u001b[38;5;241m=\u001b[39m \u001b[38;5;241m101\u001b[39m\n",
      "\u001b[1;31mFileExistsError\u001b[0m: [WinError 183] 파일이 이미 있으므로 만들 수 없습니다: './raw_data/chador\\\\.DS_Store' -> './raw_data/chador\\\\101.jpg'"
     ]
    }
   ],
   "source": [
    "# set here your file path!!\n",
    "folder_path = \"\"\n",
    "\n",
    "# example hijab dataset_dir\n",
    "file_path_chador = './raw_data/chador'\n",
    "file_path_niqab = './raw_data/niqab'\n",
    "file_path_burqz = './raw_data/burqz'\n",
    "file_path_mask = './raw_data/mask'\n",
    "\n",
    "file_names_chador = os.listdir(file_path_chador)\n",
    "file_names_niqab = os.listdir(file_path_niqab)\n",
    "file_names_burqz = os.listdir(file_path_burqz)\n",
    "file_names_mask = os.listdir(file_path_mask)\n",
    "\n",
    "i = 101\n",
    "for name in file_names_chador:\n",
    "    src = os.path.join(file_path_chador, name)\n",
    "    dst = str(i) + '.jpg'\n",
    "    dst = os.path.join(file_path_chador, dst)\n",
    "    os.rename(src, dst)\n",
    "    i += 1     \n",
    "\n",
    "i = 101\n",
    "for name in file_names_niqab:\n",
    "    src = os.path.join(file_path_niqab, name)\n",
    "    dst = str(i) + '.jpg'\n",
    "    dst = os.path.join(file_path_niqab, dst)\n",
    "    os.rename(src, dst)\n",
    "    i += 1\n",
    "\n",
    "i = 1\n",
    "for name in file_names_burqz:\n",
    "    src = os.path.join(file_path_burqz, name)\n",
    "    dst = 'mask'+ str(i) + '.jpg'\n",
    "    dst = os.path.join(file_path_burqz, dst)\n",
    "    os.rename(src, dst)\n",
    "    i += 1  \n",
    "    \n",
    "i = 101\n",
    "for name in file_names_mask:\n",
    "    src = os.path.join(file_path_mask, name)\n",
    "    dst = str(i) + '.jpg'\n",
    "    dst = os.path.join(file_path_mask, dst)\n",
    "    os.rename(src, dst)\n",
    "    i += 1"
   ]
  },
  {
   "cell_type": "code",
   "execution_count": null,
   "id": "954b0c21",
   "metadata": {},
   "outputs": [],
   "source": []
  }
 ],
 "metadata": {
  "kernelspec": {
   "display_name": "Python 3 (ipykernel)",
   "language": "python",
   "name": "python3"
  },
  "language_info": {
   "codemirror_mode": {
    "name": "ipython",
    "version": 3
   },
   "file_extension": ".py",
   "mimetype": "text/x-python",
   "name": "python",
   "nbconvert_exporter": "python",
   "pygments_lexer": "ipython3",
   "version": "3.10.11"
  }
 },
 "nbformat": 4,
 "nbformat_minor": 5
}
