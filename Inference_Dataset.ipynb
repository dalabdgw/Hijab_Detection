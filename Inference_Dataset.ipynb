{
 "cells": [
  {
   "cell_type": "code",
   "execution_count": 2,
   "id": "88a5fef0",
   "metadata": {},
   "outputs": [],
   "source": [
    "import os\n",
    "from IPython.display import Image"
   ]
  },
  {
   "cell_type": "code",
   "execution_count": 9,
   "id": "0b7788b9",
   "metadata": {
    "scrolled": true
   },
   "outputs": [
    {
     "name": "stderr",
     "output_type": "stream",
     "text": [
      "\u001b[34m\u001b[1mdetect: \u001b[0mweights=['./yolov5/runs/train/hijab_yolov5s_results/weights/best.pt'], source=C:/Users/User/Desktop/GitHub/Hijab_Detection/hijab/images/test-past/burqz/, data=yolov5\\data\\coco128.yaml, imgsz=[640, 640], conf_thres=0.25, iou_thres=0.45, max_det=1000, device=, view_img=False, save_txt=False, save_conf=False, save_crop=False, nosave=False, classes=None, agnostic_nms=False, augment=False, visualize=False, update=False, project=yolov5\\runs\\detect, name=exp, exist_ok=False, line_thickness=3, hide_labels=False, hide_conf=False, half=False, dnn=False, vid_stride=1\n",
      "YOLOv5  v7.0-187-g0004c74 Python-3.10.11 torch-2.0.1 CUDA:0 (NVIDIA GeForce RTX 4080, 16376MiB)\n",
      "\n",
      "Fusing layers... \n",
      "YOLOv5s summary: 157 layers, 7020913 parameters, 0 gradients, 15.8 GFLOPs\n",
      "image 1/10 C:\\Users\\User\\Desktop\\GitHub\\Hijab_Detection\\hijab\\images\\test-past\\burqz\\80.jpeg: 640x640 1 burqz, 0.0ms\n",
      "image 2/10 C:\\Users\\User\\Desktop\\GitHub\\Hijab_Detection\\hijab\\images\\test-past\\burqz\\81.jpeg: 640x512 1 burqz, 46.9ms\n",
      "image 3/10 C:\\Users\\User\\Desktop\\GitHub\\Hijab_Detection\\hijab\\images\\test-past\\burqz\\82.jpeg: 640x608 1 burqz, 62.0ms\n",
      "image 4/10 C:\\Users\\User\\Desktop\\GitHub\\Hijab_Detection\\hijab\\images\\test-past\\burqz\\83.jpeg: 640x416 1 burqz, 59.7ms\n",
      "image 5/10 C:\\Users\\User\\Desktop\\GitHub\\Hijab_Detection\\hijab\\images\\test-past\\burqz\\84.jpeg: 640x288 1 burqz, 55.1ms\n",
      "image 6/10 C:\\Users\\User\\Desktop\\GitHub\\Hijab_Detection\\hijab\\images\\test-past\\burqz\\85.jpeg: 640x640 1 burqz, 3.0ms\n",
      "image 7/10 C:\\Users\\User\\Desktop\\GitHub\\Hijab_Detection\\hijab\\images\\test-past\\burqz\\86.jpeg: 384x640 3 burqzs, 54.0ms\n",
      "image 8/10 C:\\Users\\User\\Desktop\\GitHub\\Hijab_Detection\\hijab\\images\\test-past\\burqz\\87.jpeg: 640x512 1 burqz, 2.0ms\n",
      "image 9/10 C:\\Users\\User\\Desktop\\GitHub\\Hijab_Detection\\hijab\\images\\test-past\\burqz\\88.jpeg: 640x512 1 burqz, 3.0ms\n",
      "image 10/10 C:\\Users\\User\\Desktop\\GitHub\\Hijab_Detection\\hijab\\images\\test-past\\burqz\\89.jpeg: 640x320 1 burqz, 47.0ms\n",
      "Speed: 0.2ms pre-process, 33.3ms inference, 1.8ms NMS per image at shape (1, 3, 640, 640)\n",
      "Results saved to \u001b[1myolov5\\runs\\detect\\exp\u001b[0m\n"
     ]
    }
   ],
   "source": [
    "# 새 모델: 이전 데이터 - burqz\n",
    "!python ./yolov5/detect.py --weights ./yolov5/runs/train/hijab_yolov5s_results/weights/best.pt --source \"C:/Users/User/Desktop/GitHub/Hijab_Detection/hijab/images/test-past/burqz/\""
   ]
  },
  {
   "cell_type": "code",
   "execution_count": 10,
   "id": "794bf57b",
   "metadata": {
    "scrolled": true
   },
   "outputs": [
    {
     "name": "stderr",
     "output_type": "stream",
     "text": [
      "\u001b[34m\u001b[1mdetect: \u001b[0mweights=['./yolov5/runs/train/hijab_yolov5s_results/weights/best.pt'], source=C:/Users/User/Desktop/GitHub/Hijab_Detection/hijab/images/test-past/chador/, data=yolov5\\data\\coco128.yaml, imgsz=[640, 640], conf_thres=0.25, iou_thres=0.45, max_det=1000, device=, view_img=False, save_txt=False, save_conf=False, save_crop=False, nosave=False, classes=None, agnostic_nms=False, augment=False, visualize=False, update=False, project=yolov5\\runs\\detect, name=exp, exist_ok=False, line_thickness=3, hide_labels=False, hide_conf=False, half=False, dnn=False, vid_stride=1\n",
      "YOLOv5  v7.0-187-g0004c74 Python-3.10.11 torch-2.0.1 CUDA:0 (NVIDIA GeForce RTX 4080, 16376MiB)\n",
      "\n",
      "Fusing layers... \n",
      "YOLOv5s summary: 157 layers, 7020913 parameters, 0 gradients, 15.8 GFLOPs\n",
      "image 1/10 C:\\Users\\User\\Desktop\\GitHub\\Hijab_Detection\\hijab\\images\\test-past\\chador\\80.jpeg: 640x448 2 chadors, 46.9ms\n",
      "image 2/10 C:\\Users\\User\\Desktop\\GitHub\\Hijab_Detection\\hijab\\images\\test-past\\chador\\81.jpeg: 416x640 1 chador, 47.1ms\n",
      "image 3/10 C:\\Users\\User\\Desktop\\GitHub\\Hijab_Detection\\hijab\\images\\test-past\\chador\\82.jpeg: 480x640 2 chadors, 50.8ms\n",
      "image 4/10 C:\\Users\\User\\Desktop\\GitHub\\Hijab_Detection\\hijab\\images\\test-past\\chador\\83.jpeg: 512x640 2 chadors, 46.9ms\n",
      "image 5/10 C:\\Users\\User\\Desktop\\GitHub\\Hijab_Detection\\hijab\\images\\test-past\\chador\\84.jpeg: 640x448 1 chador, 0.0ms\n",
      "image 6/10 C:\\Users\\User\\Desktop\\GitHub\\Hijab_Detection\\hijab\\images\\test-past\\chador\\85.jpeg: 480x640 2 chadors, 0.0ms\n",
      "image 7/10 C:\\Users\\User\\Desktop\\GitHub\\Hijab_Detection\\hijab\\images\\test-past\\chador\\86.jpeg: 480x640 2 chadors, 1 niqab, 0.0ms\n",
      "image 8/10 C:\\Users\\User\\Desktop\\GitHub\\Hijab_Detection\\hijab\\images\\test-past\\chador\\87.jpeg: 640x448 1 burqz, 1 chador, 0.0ms\n",
      "image 9/10 C:\\Users\\User\\Desktop\\GitHub\\Hijab_Detection\\hijab\\images\\test-past\\chador\\88.jpeg: 416x640 2 niqabs, 1.4ms\n",
      "image 10/10 C:\\Users\\User\\Desktop\\GitHub\\Hijab_Detection\\hijab\\images\\test-past\\chador\\89.jpeg: 448x640 1 chador, 45.6ms\n",
      "Speed: 0.0ms pre-process, 23.9ms inference, 2.1ms NMS per image at shape (1, 3, 640, 640)\n",
      "Results saved to \u001b[1myolov5\\runs\\detect\\exp2\u001b[0m\n"
     ]
    }
   ],
   "source": [
    "# 새 모델: 이전 데이터 - chador\n",
    "!python ./yolov5/detect.py --weights ./yolov5/runs/train/hijab_yolov5s_results/weights/best.pt --source \"C:/Users/User/Desktop/GitHub/Hijab_Detection/hijab/images/test-past/chador/\""
   ]
  },
  {
   "cell_type": "code",
   "execution_count": 11,
   "id": "87d9e24f",
   "metadata": {},
   "outputs": [
    {
     "name": "stderr",
     "output_type": "stream",
     "text": [
      "\u001b[34m\u001b[1mdetect: \u001b[0mweights=['./yolov5/runs/train/hijab_yolov5s_results/weights/best.pt'], source=C:/Users/User/Desktop/GitHub/Hijab_Detection/hijab/images/test-past/mask/, data=yolov5\\data\\coco128.yaml, imgsz=[640, 640], conf_thres=0.25, iou_thres=0.45, max_det=1000, device=, view_img=False, save_txt=False, save_conf=False, save_crop=False, nosave=False, classes=None, agnostic_nms=False, augment=False, visualize=False, update=False, project=yolov5\\runs\\detect, name=exp, exist_ok=False, line_thickness=3, hide_labels=False, hide_conf=False, half=False, dnn=False, vid_stride=1\n",
      "YOLOv5  v7.0-187-g0004c74 Python-3.10.11 torch-2.0.1 CUDA:0 (NVIDIA GeForce RTX 4080, 16376MiB)\n",
      "\n",
      "Fusing layers... \n",
      "YOLOv5s summary: 157 layers, 7020913 parameters, 0 gradients, 15.8 GFLOPs\n",
      "image 1/18 C:\\Users\\User\\Desktop\\GitHub\\Hijab_Detection\\hijab\\images\\test-past\\mask\\m80.jpeg: 352x640 1 mask, 48.0ms\n",
      "image 2/18 C:\\Users\\User\\Desktop\\GitHub\\Hijab_Detection\\hijab\\images\\test-past\\mask\\m81.jpg: 384x640 1 mask, 56.8ms\n",
      "image 3/18 C:\\Users\\User\\Desktop\\GitHub\\Hijab_Detection\\hijab\\images\\test-past\\mask\\m82.jpg: 640x608 1 mask, 50.1ms\n",
      "image 4/18 C:\\Users\\User\\Desktop\\GitHub\\Hijab_Detection\\hijab\\images\\test-past\\mask\\m83.jpeg: 512x640 1 mask, 49.6ms\n",
      "image 5/18 C:\\Users\\User\\Desktop\\GitHub\\Hijab_Detection\\hijab\\images\\test-past\\mask\\m84.jpg: 640x640 1 mask, 2.0ms\n",
      "image 6/18 C:\\Users\\User\\Desktop\\GitHub\\Hijab_Detection\\hijab\\images\\test-past\\mask\\m85.jpeg: 640x448 1 mask, 53.2ms\n",
      "image 7/18 C:\\Users\\User\\Desktop\\GitHub\\Hijab_Detection\\hijab\\images\\test-past\\mask\\m86.jpeg: 640x448 1 mask, 2.0ms\n",
      "image 8/18 C:\\Users\\User\\Desktop\\GitHub\\Hijab_Detection\\hijab\\images\\test-past\\mask\\m87.jpeg: 448x640 2 masks, 50.3ms\n",
      "image 9/18 C:\\Users\\User\\Desktop\\GitHub\\Hijab_Detection\\hijab\\images\\test-past\\mask\\m88.jpg: 640x608 1 mask, 0.0ms\n",
      "image 10/18 C:\\Users\\User\\Desktop\\GitHub\\Hijab_Detection\\hijab\\images\\test-past\\mask\\m89.jpg: 640x640 1 mask, 3.0ms\n",
      "image 11/18 C:\\Users\\User\\Desktop\\GitHub\\Hijab_Detection\\hijab\\images\\test-past\\mask\\w81.jpeg: 448x640 1 mask, 3.0ms\n",
      "image 12/18 C:\\Users\\User\\Desktop\\GitHub\\Hijab_Detection\\hijab\\images\\test-past\\mask\\w83.jpeg: 384x640 1 mask, 3.0ms\n",
      "image 13/18 C:\\Users\\User\\Desktop\\GitHub\\Hijab_Detection\\hijab\\images\\test-past\\mask\\w84.jpeg: 448x640 1 mask, 2.0ms\n",
      "image 14/18 C:\\Users\\User\\Desktop\\GitHub\\Hijab_Detection\\hijab\\images\\test-past\\mask\\w85.jpg: 448x640 1 mask, 3.0ms\n",
      "image 15/18 C:\\Users\\User\\Desktop\\GitHub\\Hijab_Detection\\hijab\\images\\test-past\\mask\\w86.jpg: 384x640 1 mask, 3.6ms\n",
      "image 16/18 C:\\Users\\User\\Desktop\\GitHub\\Hijab_Detection\\hijab\\images\\test-past\\mask\\w87.jpeg: 480x640 1 mask, 60.0ms\n",
      "image 17/18 C:\\Users\\User\\Desktop\\GitHub\\Hijab_Detection\\hijab\\images\\test-past\\mask\\w88.jpg: 384x640 1 mask, 0.0ms\n",
      "image 18/18 C:\\Users\\User\\Desktop\\GitHub\\Hijab_Detection\\hijab\\images\\test-past\\mask\\w90.jpg: 384x640 1 mask, 3.0ms\n",
      "Speed: 0.1ms pre-process, 21.8ms inference, 0.4ms NMS per image at shape (1, 3, 640, 640)\n",
      "Results saved to \u001b[1myolov5\\runs\\detect\\exp3\u001b[0m\n"
     ]
    }
   ],
   "source": [
    "# 새 모델: 이전 데이터 - mask\n",
    "!python ./yolov5/detect.py --weights ./yolov5/runs/train/hijab_yolov5s_results/weights/best.pt --source \"C:/Users/User/Desktop/GitHub/Hijab_Detection/hijab/images/test-past/mask/\""
   ]
  },
  {
   "cell_type": "code",
   "execution_count": 12,
   "id": "fb028b08",
   "metadata": {},
   "outputs": [
    {
     "name": "stderr",
     "output_type": "stream",
     "text": [
      "\u001b[34m\u001b[1mdetect: \u001b[0mweights=['./yolov5/runs/train/hijab_yolov5s_results/weights/best.pt'], source=C:/Users/User/Desktop/GitHub/Hijab_Detection/hijab/images/test-past/niqab/, data=yolov5\\data\\coco128.yaml, imgsz=[640, 640], conf_thres=0.25, iou_thres=0.45, max_det=1000, device=, view_img=False, save_txt=False, save_conf=False, save_crop=False, nosave=False, classes=None, agnostic_nms=False, augment=False, visualize=False, update=False, project=yolov5\\runs\\detect, name=exp, exist_ok=False, line_thickness=3, hide_labels=False, hide_conf=False, half=False, dnn=False, vid_stride=1\n",
      "YOLOv5  v7.0-187-g0004c74 Python-3.10.11 torch-2.0.1 CUDA:0 (NVIDIA GeForce RTX 4080, 16376MiB)\n",
      "\n",
      "Fusing layers... \n",
      "YOLOv5s summary: 157 layers, 7020913 parameters, 0 gradients, 15.8 GFLOPs\n",
      "image 1/9 C:\\Users\\User\\Desktop\\GitHub\\Hijab_Detection\\hijab\\images\\test-past\\niqab\\81.jpeg: 384x640 1 chador, 2 niqabs, 46.9ms\n",
      "image 2/9 C:\\Users\\User\\Desktop\\GitHub\\Hijab_Detection\\hijab\\images\\test-past\\niqab\\82.jpeg: 416x640 2 niqabs, 46.9ms\n",
      "image 3/9 C:\\Users\\User\\Desktop\\GitHub\\Hijab_Detection\\hijab\\images\\test-past\\niqab\\83.jpeg: 416x640 2 chadors, 15.6ms\n",
      "image 4/9 C:\\Users\\User\\Desktop\\GitHub\\Hijab_Detection\\hijab\\images\\test-past\\niqab\\84.jpeg: 352x640 1 niqab, 46.9ms\n",
      "image 5/9 C:\\Users\\User\\Desktop\\GitHub\\Hijab_Detection\\hijab\\images\\test-past\\niqab\\85.jpeg: 448x640 1 burqz, 1 niqab, 46.9ms\n",
      "image 6/9 C:\\Users\\User\\Desktop\\GitHub\\Hijab_Detection\\hijab\\images\\test-past\\niqab\\86.jpeg: 384x640 1 niqab, 0.0ms\n",
      "image 7/9 C:\\Users\\User\\Desktop\\GitHub\\Hijab_Detection\\hijab\\images\\test-past\\niqab\\87.jpeg: 448x640 1 niqab, 0.0ms\n",
      "image 8/9 C:\\Users\\User\\Desktop\\GitHub\\Hijab_Detection\\hijab\\images\\test-past\\niqab\\88.jpeg: 640x480 1 niqab, 46.9ms\n",
      "image 9/9 C:\\Users\\User\\Desktop\\GitHub\\Hijab_Detection\\hijab\\images\\test-past\\niqab\\89.jpeg: 640x544 1 niqab, 46.9ms\n",
      "Speed: 0.0ms pre-process, 33.0ms inference, 0.0ms NMS per image at shape (1, 3, 640, 640)\n",
      "Results saved to \u001b[1myolov5\\runs\\detect\\exp4\u001b[0m\n"
     ]
    }
   ],
   "source": [
    "# 새 모델: 이전 데이터 - niqab\n",
    "!python ./yolov5/detect.py --weights ./yolov5/runs/train/hijab_yolov5s_results/weights/best.pt --source \"C:/Users/User/Desktop/GitHub/Hijab_Detection/hijab/images/test-past/niqab/\""
   ]
  },
  {
   "cell_type": "markdown",
   "id": "7c164723",
   "metadata": {},
   "source": []
  },
  {
   "cell_type": "code",
   "execution_count": 13,
   "id": "0bb9ff89",
   "metadata": {},
   "outputs": [
    {
     "name": "stderr",
     "output_type": "stream",
     "text": [
      "\u001b[34m\u001b[1mdetect: \u001b[0mweights=['./yolov5/runs/train/hijab_yolov5s_results/weights/best.pt'], source=C:/Users/User/Desktop/GitHub/Hijab_Detection/hijab/images/test-current/burqz/, data=yolov5\\data\\coco128.yaml, imgsz=[640, 640], conf_thres=0.25, iou_thres=0.45, max_det=1000, device=, view_img=False, save_txt=False, save_conf=False, save_crop=False, nosave=False, classes=None, agnostic_nms=False, augment=False, visualize=False, update=False, project=yolov5\\runs\\detect, name=exp, exist_ok=False, line_thickness=3, hide_labels=False, hide_conf=False, half=False, dnn=False, vid_stride=1\n",
      "YOLOv5  v7.0-187-g0004c74 Python-3.10.11 torch-2.0.1 CUDA:0 (NVIDIA GeForce RTX 4080, 16376MiB)\n",
      "\n",
      "Fusing layers... \n",
      "YOLOv5s summary: 157 layers, 7020913 parameters, 0 gradients, 15.8 GFLOPs\n",
      "image 1/35 C:\\Users\\User\\Desktop\\GitHub\\Hijab_Detection\\hijab\\images\\test-current\\burqz\\301.jpg: 384x640 2 burqzs, 46.9ms\n",
      "image 2/35 C:\\Users\\User\\Desktop\\GitHub\\Hijab_Detection\\hijab\\images\\test-current\\burqz\\302.jpg: 448x640 3 burqzs, 46.9ms\n",
      "image 3/35 C:\\Users\\User\\Desktop\\GitHub\\Hijab_Detection\\hijab\\images\\test-current\\burqz\\303.jpg: 608x640 1 burqz, 46.9ms\n",
      "image 4/35 C:\\Users\\User\\Desktop\\GitHub\\Hijab_Detection\\hijab\\images\\test-current\\burqz\\304.jpg: 448x640 1 burqz, 0.0ms\n",
      "image 5/35 C:\\Users\\User\\Desktop\\GitHub\\Hijab_Detection\\hijab\\images\\test-current\\burqz\\305.jpg: 640x448 1 burqz, 46.9ms\n",
      "image 6/35 C:\\Users\\User\\Desktop\\GitHub\\Hijab_Detection\\hijab\\images\\test-current\\burqz\\306.jpg: 640x512 1 burqz, 46.9ms\n",
      "image 7/35 C:\\Users\\User\\Desktop\\GitHub\\Hijab_Detection\\hijab\\images\\test-current\\burqz\\307.jpg: 480x640 1 burqz, 46.9ms\n",
      "image 8/35 C:\\Users\\User\\Desktop\\GitHub\\Hijab_Detection\\hijab\\images\\test-current\\burqz\\308.jpg: 448x640 2 burqzs, 0.0ms\n",
      "image 9/35 C:\\Users\\User\\Desktop\\GitHub\\Hijab_Detection\\hijab\\images\\test-current\\burqz\\309.jpg: 640x512 1 burqz, 0.0ms\n",
      "image 10/35 C:\\Users\\User\\Desktop\\GitHub\\Hijab_Detection\\hijab\\images\\test-current\\burqz\\310.jpg: 448x640 3 burqzs, 0.0ms\n",
      "image 11/35 C:\\Users\\User\\Desktop\\GitHub\\Hijab_Detection\\hijab\\images\\test-current\\burqz\\311.jpg: 448x640 1 burqz, 0.0ms\n",
      "image 12/35 C:\\Users\\User\\Desktop\\GitHub\\Hijab_Detection\\hijab\\images\\test-current\\burqz\\312.jpg: 480x640 1 burqz, 0.0ms\n",
      "image 13/35 C:\\Users\\User\\Desktop\\GitHub\\Hijab_Detection\\hijab\\images\\test-current\\burqz\\313.jpg: 448x640 5 burqzs, 15.6ms\n",
      "image 14/35 C:\\Users\\User\\Desktop\\GitHub\\Hijab_Detection\\hijab\\images\\test-current\\burqz\\314.jpg: 640x480 1 burqz, 46.9ms\n",
      "image 15/35 C:\\Users\\User\\Desktop\\GitHub\\Hijab_Detection\\hijab\\images\\test-current\\burqz\\315.jpg: 416x640 2 burqzs, 46.9ms\n",
      "image 16/35 C:\\Users\\User\\Desktop\\GitHub\\Hijab_Detection\\hijab\\images\\test-current\\burqz\\316.jpg: 512x640 2 burqzs, 46.9ms\n",
      "image 17/35 C:\\Users\\User\\Desktop\\GitHub\\Hijab_Detection\\hijab\\images\\test-current\\burqz\\317.jpg: 640x480 1 burqz, 15.6ms\n",
      "image 18/35 C:\\Users\\User\\Desktop\\GitHub\\Hijab_Detection\\hijab\\images\\test-current\\burqz\\318.jpg: 480x640 3 burqzs, 0.0ms\n",
      "image 19/35 C:\\Users\\User\\Desktop\\GitHub\\Hijab_Detection\\hijab\\images\\test-current\\burqz\\319.jpg: 384x640 1 burqz, 0.0ms\n",
      "image 20/35 C:\\Users\\User\\Desktop\\GitHub\\Hijab_Detection\\hijab\\images\\test-current\\burqz\\320.jpg: 640x640 1 burqz, 15.6ms\n",
      "image 21/35 C:\\Users\\User\\Desktop\\GitHub\\Hijab_Detection\\hijab\\images\\test-current\\burqz\\321.jpg: 640x384 2 burqzs, 59.6ms\n",
      "image 22/35 C:\\Users\\User\\Desktop\\GitHub\\Hijab_Detection\\hijab\\images\\test-current\\burqz\\322.jpg: 448x640 1 burqz, 0.0ms\n",
      "image 23/35 C:\\Users\\User\\Desktop\\GitHub\\Hijab_Detection\\hijab\\images\\test-current\\burqz\\323.jpg: 448x640 1 burqz, 0.0ms\n",
      "image 24/35 C:\\Users\\User\\Desktop\\GitHub\\Hijab_Detection\\hijab\\images\\test-current\\burqz\\324.jpg: 480x640 1 niqab, 0.0ms\n",
      "image 25/35 C:\\Users\\User\\Desktop\\GitHub\\Hijab_Detection\\hijab\\images\\test-current\\burqz\\325.jpg: 448x640 1 burqz, 0.0ms\n",
      "image 26/35 C:\\Users\\User\\Desktop\\GitHub\\Hijab_Detection\\hijab\\images\\test-current\\burqz\\80.jpeg: 640x640 1 burqz, 0.0ms\n",
      "image 27/35 C:\\Users\\User\\Desktop\\GitHub\\Hijab_Detection\\hijab\\images\\test-current\\burqz\\81.jpeg: 640x512 1 burqz, 0.0ms\n",
      "image 28/35 C:\\Users\\User\\Desktop\\GitHub\\Hijab_Detection\\hijab\\images\\test-current\\burqz\\82.jpeg: 640x608 1 burqz, 46.9ms\n",
      "image 29/35 C:\\Users\\User\\Desktop\\GitHub\\Hijab_Detection\\hijab\\images\\test-current\\burqz\\83.jpeg: 640x416 1 burqz, 46.9ms\n",
      "image 30/35 C:\\Users\\User\\Desktop\\GitHub\\Hijab_Detection\\hijab\\images\\test-current\\burqz\\84.jpeg: 640x288 1 burqz, 46.9ms\n",
      "image 31/35 C:\\Users\\User\\Desktop\\GitHub\\Hijab_Detection\\hijab\\images\\test-current\\burqz\\85.jpeg: 640x640 1 burqz, 15.6ms\n",
      "image 32/35 C:\\Users\\User\\Desktop\\GitHub\\Hijab_Detection\\hijab\\images\\test-current\\burqz\\86.jpeg: 384x640 3 burqzs, 0.0ms\n",
      "image 33/35 C:\\Users\\User\\Desktop\\GitHub\\Hijab_Detection\\hijab\\images\\test-current\\burqz\\87.jpeg: 640x512 1 burqz, 15.6ms\n",
      "image 34/35 C:\\Users\\User\\Desktop\\GitHub\\Hijab_Detection\\hijab\\images\\test-current\\burqz\\88.jpeg: 640x512 1 burqz, 0.0ms\n",
      "image 35/35 C:\\Users\\User\\Desktop\\GitHub\\Hijab_Detection\\hijab\\images\\test-current\\burqz\\89.jpeg: 640x320 1 burqz, 46.9ms\n",
      "Speed: 0.0ms pre-process, 21.3ms inference, 0.4ms NMS per image at shape (1, 3, 640, 640)\n",
      "Results saved to \u001b[1myolov5\\runs\\detect\\exp5\u001b[0m\n"
     ]
    }
   ],
   "source": [
    "# 새 모델: 전체 데이터 - burqz\n",
    "!python ./yolov5/detect.py --weights ./yolov5/runs/train/hijab_yolov5s_results/weights/best.pt --source \"C:/Users/User/Desktop/GitHub/Hijab_Detection/hijab/images/test-current/burqz/\""
   ]
  },
  {
   "cell_type": "code",
   "execution_count": 14,
   "id": "9011036a",
   "metadata": {},
   "outputs": [
    {
     "name": "stderr",
     "output_type": "stream",
     "text": [
      "\u001b[34m\u001b[1mdetect: \u001b[0mweights=['./yolov5/runs/train/hijab_yolov5s_results/weights/best.pt'], source=C:/Users/User/Desktop/GitHub/Hijab_Detection/hijab/images/test-current/chador/, data=yolov5\\data\\coco128.yaml, imgsz=[640, 640], conf_thres=0.25, iou_thres=0.45, max_det=1000, device=, view_img=False, save_txt=False, save_conf=False, save_crop=False, nosave=False, classes=None, agnostic_nms=False, augment=False, visualize=False, update=False, project=yolov5\\runs\\detect, name=exp, exist_ok=False, line_thickness=3, hide_labels=False, hide_conf=False, half=False, dnn=False, vid_stride=1\n",
      "YOLOv5  v7.0-187-g0004c74 Python-3.10.11 torch-2.0.1 CUDA:0 (NVIDIA GeForce RTX 4080, 16376MiB)\n",
      "\n",
      "Fusing layers... \n",
      "YOLOv5s summary: 157 layers, 7020913 parameters, 0 gradients, 15.8 GFLOPs\n",
      "image 1/35 C:\\Users\\User\\Desktop\\GitHub\\Hijab_Detection\\hijab\\images\\test-current\\chador\\301.jpg: 448x640 1 chador, 50.2ms\n",
      "image 2/35 C:\\Users\\User\\Desktop\\GitHub\\Hijab_Detection\\hijab\\images\\test-current\\chador\\302.jpg: 448x640 1 chador, 0.0ms\n",
      "image 3/35 C:\\Users\\User\\Desktop\\GitHub\\Hijab_Detection\\hijab\\images\\test-current\\chador\\303.jpg: 448x640 1 chador, 16.8ms\n",
      "image 4/35 C:\\Users\\User\\Desktop\\GitHub\\Hijab_Detection\\hijab\\images\\test-current\\chador\\304.jpg: 640x448 1 chador, 49.8ms\n",
      "image 5/35 C:\\Users\\User\\Desktop\\GitHub\\Hijab_Detection\\hijab\\images\\test-current\\chador\\305.jpg: 640x640 1 chador, 0.0ms\n",
      "image 6/35 C:\\Users\\User\\Desktop\\GitHub\\Hijab_Detection\\hijab\\images\\test-current\\chador\\306.jpg: 640x448 2 chadors, 0.0ms\n",
      "image 7/35 C:\\Users\\User\\Desktop\\GitHub\\Hijab_Detection\\hijab\\images\\test-current\\chador\\307.jpg: 640x448 1 chador, 16.5ms\n",
      "image 8/35 C:\\Users\\User\\Desktop\\GitHub\\Hijab_Detection\\hijab\\images\\test-current\\chador\\308.jpg: 448x640 1 chador, 0.0ms\n",
      "image 9/35 C:\\Users\\User\\Desktop\\GitHub\\Hijab_Detection\\hijab\\images\\test-current\\chador\\309.jpg: 448x640 1 chador, 0.0ms\n",
      "image 10/35 C:\\Users\\User\\Desktop\\GitHub\\Hijab_Detection\\hijab\\images\\test-current\\chador\\310.jpg: 448x640 1 chador, 0.0ms\n",
      "image 11/35 C:\\Users\\User\\Desktop\\GitHub\\Hijab_Detection\\hijab\\images\\test-current\\chador\\311.jpg: 448x640 1 chador, 15.2ms\n",
      "image 12/35 C:\\Users\\User\\Desktop\\GitHub\\Hijab_Detection\\hijab\\images\\test-current\\chador\\312.jpg: 448x640 1 chador, 0.0ms\n",
      "image 13/35 C:\\Users\\User\\Desktop\\GitHub\\Hijab_Detection\\hijab\\images\\test-current\\chador\\313.jpg: 384x640 1 chador, 50.3ms\n",
      "image 14/35 C:\\Users\\User\\Desktop\\GitHub\\Hijab_Detection\\hijab\\images\\test-current\\chador\\314.jpg: 640x640 1 chador, 0.0ms\n",
      "image 15/35 C:\\Users\\User\\Desktop\\GitHub\\Hijab_Detection\\hijab\\images\\test-current\\chador\\315.jpg: 448x640 1 chador, 0.0ms\n",
      "image 16/35 C:\\Users\\User\\Desktop\\GitHub\\Hijab_Detection\\hijab\\images\\test-current\\chador\\316.jpg: 640x448 1 chador, 16.6ms\n",
      "image 17/35 C:\\Users\\User\\Desktop\\GitHub\\Hijab_Detection\\hijab\\images\\test-current\\chador\\317.jpg: 448x640 1 chador, 0.0ms\n",
      "image 18/35 C:\\Users\\User\\Desktop\\GitHub\\Hijab_Detection\\hijab\\images\\test-current\\chador\\318.jpg: 448x640 1 chador, 0.0ms\n",
      "image 19/35 C:\\Users\\User\\Desktop\\GitHub\\Hijab_Detection\\hijab\\images\\test-current\\chador\\319.jpg: 640x416 (no detections), 50.0ms\n",
      "image 20/35 C:\\Users\\User\\Desktop\\GitHub\\Hijab_Detection\\hijab\\images\\test-current\\chador\\320.jpg: 448x640 2 chadors, 0.0ms\n",
      "image 21/35 C:\\Users\\User\\Desktop\\GitHub\\Hijab_Detection\\hijab\\images\\test-current\\chador\\321.jpg: 640x448 1 chador, 0.0ms\n",
      "image 22/35 C:\\Users\\User\\Desktop\\GitHub\\Hijab_Detection\\hijab\\images\\test-current\\chador\\322.jpg: 384x640 1 chador, 0.0ms\n",
      "image 23/35 C:\\Users\\User\\Desktop\\GitHub\\Hijab_Detection\\hijab\\images\\test-current\\chador\\323.jpg: 448x640 1 chador, 15.2ms\n",
      "image 24/35 C:\\Users\\User\\Desktop\\GitHub\\Hijab_Detection\\hijab\\images\\test-current\\chador\\324.jpg: 448x640 1 chador, 0.0ms\n",
      "image 25/35 C:\\Users\\User\\Desktop\\GitHub\\Hijab_Detection\\hijab\\images\\test-current\\chador\\325.jpg: 640x448 2 chadors, 1 mask, 0.0ms\n",
      "image 26/35 C:\\Users\\User\\Desktop\\GitHub\\Hijab_Detection\\hijab\\images\\test-current\\chador\\80.jpeg: 640x448 2 chadors, 16.8ms\n",
      "image 27/35 C:\\Users\\User\\Desktop\\GitHub\\Hijab_Detection\\hijab\\images\\test-current\\chador\\81.jpeg: 416x640 1 chador, 49.6ms\n",
      "image 28/35 C:\\Users\\User\\Desktop\\GitHub\\Hijab_Detection\\hijab\\images\\test-current\\chador\\82.jpeg: 480x640 2 chadors, 49.8ms\n",
      "image 29/35 C:\\Users\\User\\Desktop\\GitHub\\Hijab_Detection\\hijab\\images\\test-current\\chador\\83.jpeg: 512x640 2 chadors, 49.9ms\n",
      "image 30/35 C:\\Users\\User\\Desktop\\GitHub\\Hijab_Detection\\hijab\\images\\test-current\\chador\\84.jpeg: 640x448 1 chador, 0.0ms\n",
      "image 31/35 C:\\Users\\User\\Desktop\\GitHub\\Hijab_Detection\\hijab\\images\\test-current\\chador\\85.jpeg: 480x640 2 chadors, 0.0ms\n",
      "image 32/35 C:\\Users\\User\\Desktop\\GitHub\\Hijab_Detection\\hijab\\images\\test-current\\chador\\86.jpeg: 480x640 2 chadors, 1 niqab, 0.0ms\n",
      "image 33/35 C:\\Users\\User\\Desktop\\GitHub\\Hijab_Detection\\hijab\\images\\test-current\\chador\\87.jpeg: 640x448 1 burqz, 1 chador, 0.0ms\n",
      "image 34/35 C:\\Users\\User\\Desktop\\GitHub\\Hijab_Detection\\hijab\\images\\test-current\\chador\\88.jpeg: 416x640 2 niqabs, 3.0ms\n",
      "image 35/35 C:\\Users\\User\\Desktop\\GitHub\\Hijab_Detection\\hijab\\images\\test-current\\chador\\89.jpeg: 448x640 1 chador, 2.0ms\n",
      "Speed: 0.1ms pre-process, 12.9ms inference, 0.5ms NMS per image at shape (1, 3, 640, 640)\n",
      "Results saved to \u001b[1myolov5\\runs\\detect\\exp6\u001b[0m\n"
     ]
    }
   ],
   "source": [
    "# 새 모델: 전체 데이터 - chador\n",
    "!python ./yolov5/detect.py --weights ./yolov5/runs/train/hijab_yolov5s_results/weights/best.pt --source \"C:/Users/User/Desktop/GitHub/Hijab_Detection/hijab/images/test-current/chador/\""
   ]
  },
  {
   "cell_type": "code",
   "execution_count": 15,
   "id": "c8204795",
   "metadata": {},
   "outputs": [
    {
     "name": "stderr",
     "output_type": "stream",
     "text": [
      "\u001b[34m\u001b[1mdetect: \u001b[0mweights=['./yolov5/runs/train/hijab_yolov5s_results/weights/best.pt'], source=C:/Users/User/Desktop/GitHub/Hijab_Detection/hijab/images/test-current/mask/, data=yolov5\\data\\coco128.yaml, imgsz=[640, 640], conf_thres=0.25, iou_thres=0.45, max_det=1000, device=, view_img=False, save_txt=False, save_conf=False, save_crop=False, nosave=False, classes=None, agnostic_nms=False, augment=False, visualize=False, update=False, project=yolov5\\runs\\detect, name=exp, exist_ok=False, line_thickness=3, hide_labels=False, hide_conf=False, half=False, dnn=False, vid_stride=1\n",
      "YOLOv5  v7.0-187-g0004c74 Python-3.10.11 torch-2.0.1 CUDA:0 (NVIDIA GeForce RTX 4080, 16376MiB)\n",
      "\n",
      "Fusing layers... \n",
      "YOLOv5s summary: 157 layers, 7020913 parameters, 0 gradients, 15.8 GFLOPs\n",
      "image 1/43 C:\\Users\\User\\Desktop\\GitHub\\Hijab_Detection\\hijab\\images\\test-current\\mask\\m80.jpeg: 352x640 1 mask, 46.9ms\n",
      "image 2/43 C:\\Users\\User\\Desktop\\GitHub\\Hijab_Detection\\hijab\\images\\test-current\\mask\\m81.jpg: 384x640 1 mask, 48.9ms\n",
      "image 3/43 C:\\Users\\User\\Desktop\\GitHub\\Hijab_Detection\\hijab\\images\\test-current\\mask\\m82.jpg: 640x608 1 mask, 46.9ms\n",
      "image 4/43 C:\\Users\\User\\Desktop\\GitHub\\Hijab_Detection\\hijab\\images\\test-current\\mask\\m83.jpeg: 512x640 1 mask, 46.9ms\n",
      "image 5/43 C:\\Users\\User\\Desktop\\GitHub\\Hijab_Detection\\hijab\\images\\test-current\\mask\\m84.jpg: 640x640 1 mask, 0.0ms\n",
      "image 6/43 C:\\Users\\User\\Desktop\\GitHub\\Hijab_Detection\\hijab\\images\\test-current\\mask\\m85.jpeg: 640x448 1 mask, 41.9ms\n",
      "image 7/43 C:\\Users\\User\\Desktop\\GitHub\\Hijab_Detection\\hijab\\images\\test-current\\mask\\m86.jpeg: 640x448 1 mask, 0.0ms\n",
      "image 8/43 C:\\Users\\User\\Desktop\\GitHub\\Hijab_Detection\\hijab\\images\\test-current\\mask\\m87.jpeg: 448x640 2 masks, 46.9ms\n",
      "image 9/43 C:\\Users\\User\\Desktop\\GitHub\\Hijab_Detection\\hijab\\images\\test-current\\mask\\m88.jpg: 640x608 1 mask, 0.0ms\n",
      "image 10/43 C:\\Users\\User\\Desktop\\GitHub\\Hijab_Detection\\hijab\\images\\test-current\\mask\\m89.jpg: 640x640 1 mask, 15.6ms\n",
      "image 11/43 C:\\Users\\User\\Desktop\\GitHub\\Hijab_Detection\\hijab\\images\\test-current\\mask\\mask201.jpg: 448x640 3 masks, 0.0ms\n",
      "image 12/43 C:\\Users\\User\\Desktop\\GitHub\\Hijab_Detection\\hijab\\images\\test-current\\mask\\mask202.jpg: 448x640 12 masks, 0.0ms\n",
      "image 13/43 C:\\Users\\User\\Desktop\\GitHub\\Hijab_Detection\\hijab\\images\\test-current\\mask\\mask203.jpg: 640x512 1 mask, 41.5ms\n",
      "image 14/43 C:\\Users\\User\\Desktop\\GitHub\\Hijab_Detection\\hijab\\images\\test-current\\mask\\mask204.jpg: 384x640 1 mask, 0.0ms\n",
      "image 15/43 C:\\Users\\User\\Desktop\\GitHub\\Hijab_Detection\\hijab\\images\\test-current\\mask\\mask205.jpg: 448x640 9 masks, 3.0ms\n",
      "image 16/43 C:\\Users\\User\\Desktop\\GitHub\\Hijab_Detection\\hijab\\images\\test-current\\mask\\mask206.jpg: 384x640 2 masks, 5.0ms\n",
      "image 17/43 C:\\Users\\User\\Desktop\\GitHub\\Hijab_Detection\\hijab\\images\\test-current\\mask\\mask207.jpg: 384x640 1 mask, 3.0ms\n",
      "image 18/43 C:\\Users\\User\\Desktop\\GitHub\\Hijab_Detection\\hijab\\images\\test-current\\mask\\mask208.jpg: 384x640 8 masks, 0.0ms\n",
      "image 19/43 C:\\Users\\User\\Desktop\\GitHub\\Hijab_Detection\\hijab\\images\\test-current\\mask\\mask209.jpg: 640x640 1 mask, 0.0ms\n",
      "image 20/43 C:\\Users\\User\\Desktop\\GitHub\\Hijab_Detection\\hijab\\images\\test-current\\mask\\mask210.jpg: 640x640 2 masks, 0.0ms\n",
      "image 21/43 C:\\Users\\User\\Desktop\\GitHub\\Hijab_Detection\\hijab\\images\\test-current\\mask\\mask211.jpg: 448x640 1 chador, 2 masks, 0.0ms\n",
      "image 22/43 C:\\Users\\User\\Desktop\\GitHub\\Hijab_Detection\\hijab\\images\\test-current\\mask\\mask212.jpg: 448x640 4 masks, 0.0ms\n",
      "image 23/43 C:\\Users\\User\\Desktop\\GitHub\\Hijab_Detection\\hijab\\images\\test-current\\mask\\mask213.jpg: 640x512 1 mask, 15.6ms\n",
      "image 24/43 C:\\Users\\User\\Desktop\\GitHub\\Hijab_Detection\\hijab\\images\\test-current\\mask\\mask214.jpg: 480x640 6 masks, 62.9ms\n",
      "image 25/43 C:\\Users\\User\\Desktop\\GitHub\\Hijab_Detection\\hijab\\images\\test-current\\mask\\mask215.jpg: 448x640 7 masks, 3.0ms\n",
      "image 26/43 C:\\Users\\User\\Desktop\\GitHub\\Hijab_Detection\\hijab\\images\\test-current\\mask\\mask216.jpg: 640x512 1 mask, 4.0ms\n",
      "image 27/43 C:\\Users\\User\\Desktop\\GitHub\\Hijab_Detection\\hijab\\images\\test-current\\mask\\mask217.jpg: 576x640 1 mask, 46.9ms\n",
      "image 28/43 C:\\Users\\User\\Desktop\\GitHub\\Hijab_Detection\\hijab\\images\\test-current\\mask\\mask218.jpg: 448x640 2 masks, 0.0ms\n",
      "image 29/43 C:\\Users\\User\\Desktop\\GitHub\\Hijab_Detection\\hijab\\images\\test-current\\mask\\mask219.jpg: 448x640 1 mask, 0.0ms\n",
      "image 30/43 C:\\Users\\User\\Desktop\\GitHub\\Hijab_Detection\\hijab\\images\\test-current\\mask\\mask220.jpg: 448x640 2 masks, 0.0ms\n",
      "image 31/43 C:\\Users\\User\\Desktop\\GitHub\\Hijab_Detection\\hijab\\images\\test-current\\mask\\mask221.jpg: 384x640 6 masks, 8.9ms\n",
      "image 32/43 C:\\Users\\User\\Desktop\\GitHub\\Hijab_Detection\\hijab\\images\\test-current\\mask\\mask222.jpg: 544x640 1 mask, 48.8ms\n",
      "image 33/43 C:\\Users\\User\\Desktop\\GitHub\\Hijab_Detection\\hijab\\images\\test-current\\mask\\mask223.jpg: 448x640 3 masks, 0.0ms\n",
      "image 34/43 C:\\Users\\User\\Desktop\\GitHub\\Hijab_Detection\\hijab\\images\\test-current\\mask\\mask224.jpg: 448x640 4 masks, 15.6ms\n",
      "image 35/43 C:\\Users\\User\\Desktop\\GitHub\\Hijab_Detection\\hijab\\images\\test-current\\mask\\mask225.jpg: 640x512 1 mask, 0.0ms\n",
      "image 36/43 C:\\Users\\User\\Desktop\\GitHub\\Hijab_Detection\\hijab\\images\\test-current\\mask\\w81.jpeg: 448x640 1 mask, 6.0ms\n",
      "image 37/43 C:\\Users\\User\\Desktop\\GitHub\\Hijab_Detection\\hijab\\images\\test-current\\mask\\w83.jpeg: 384x640 1 mask, 4.0ms\n",
      "image 38/43 C:\\Users\\User\\Desktop\\GitHub\\Hijab_Detection\\hijab\\images\\test-current\\mask\\w84.jpeg: 448x640 1 mask, 3.6ms\n",
      "image 39/43 C:\\Users\\User\\Desktop\\GitHub\\Hijab_Detection\\hijab\\images\\test-current\\mask\\w85.jpg: 448x640 1 mask, 0.0ms\n",
      "image 40/43 C:\\Users\\User\\Desktop\\GitHub\\Hijab_Detection\\hijab\\images\\test-current\\mask\\w86.jpg: 384x640 1 mask, 0.0ms\n",
      "image 41/43 C:\\Users\\User\\Desktop\\GitHub\\Hijab_Detection\\hijab\\images\\test-current\\mask\\w87.jpeg: 480x640 1 mask, 15.6ms\n",
      "image 42/43 C:\\Users\\User\\Desktop\\GitHub\\Hijab_Detection\\hijab\\images\\test-current\\mask\\w88.jpg: 384x640 1 mask, 0.0ms\n",
      "image 43/43 C:\\Users\\User\\Desktop\\GitHub\\Hijab_Detection\\hijab\\images\\test-current\\mask\\w90.jpg: 384x640 1 mask, 0.0ms\n",
      "Speed: 0.0ms pre-process, 13.5ms inference, 0.1ms NMS per image at shape (1, 3, 640, 640)\n",
      "Results saved to \u001b[1myolov5\\runs\\detect\\exp7\u001b[0m\n"
     ]
    }
   ],
   "source": [
    "# 새 모델: 전체 데이터 - mask\n",
    "!python ./yolov5/detect.py --weights ./yolov5/runs/train/hijab_yolov5s_results/weights/best.pt --source \"C:/Users/User/Desktop/GitHub/Hijab_Detection/hijab/images/test-current/mask/\""
   ]
  },
  {
   "cell_type": "code",
   "execution_count": 16,
   "id": "9b465a3d",
   "metadata": {},
   "outputs": [
    {
     "name": "stderr",
     "output_type": "stream",
     "text": [
      "\u001b[34m\u001b[1mdetect: \u001b[0mweights=['./yolov5/runs/train/hijab_yolov5s_results/weights/best.pt'], source=C:/Users/User/Desktop/GitHub/Hijab_Detection/hijab/images/test-current/niqab/, data=yolov5\\data\\coco128.yaml, imgsz=[640, 640], conf_thres=0.25, iou_thres=0.45, max_det=1000, device=, view_img=False, save_txt=False, save_conf=False, save_crop=False, nosave=False, classes=None, agnostic_nms=False, augment=False, visualize=False, update=False, project=yolov5\\runs\\detect, name=exp, exist_ok=False, line_thickness=3, hide_labels=False, hide_conf=False, half=False, dnn=False, vid_stride=1\n",
      "YOLOv5  v7.0-187-g0004c74 Python-3.10.11 torch-2.0.1 CUDA:0 (NVIDIA GeForce RTX 4080, 16376MiB)\n",
      "\n",
      "Fusing layers... \n",
      "YOLOv5s summary: 157 layers, 7020913 parameters, 0 gradients, 15.8 GFLOPs\n",
      "image 1/34 C:\\Users\\User\\Desktop\\GitHub\\Hijab_Detection\\hijab\\images\\test-current\\niqab\\301.jpg: 640x448 1 niqab, 46.9ms\n",
      "image 2/34 C:\\Users\\User\\Desktop\\GitHub\\Hijab_Detection\\hijab\\images\\test-current\\niqab\\302.jpg: 640x384 1 niqab, 46.9ms\n",
      "image 3/34 C:\\Users\\User\\Desktop\\GitHub\\Hijab_Detection\\hijab\\images\\test-current\\niqab\\303.jpg: 448x640 1 niqab, 38.5ms\n",
      "image 4/34 C:\\Users\\User\\Desktop\\GitHub\\Hijab_Detection\\hijab\\images\\test-current\\niqab\\304.jpg: 448x640 1 burqz, 17.3ms\n",
      "image 5/34 C:\\Users\\User\\Desktop\\GitHub\\Hijab_Detection\\hijab\\images\\test-current\\niqab\\305.jpg: 448x640 1 niqab, 3.0ms\n",
      "image 6/34 C:\\Users\\User\\Desktop\\GitHub\\Hijab_Detection\\hijab\\images\\test-current\\niqab\\306.jpg: 640x448 1 niqab, 4.0ms\n",
      "image 7/34 C:\\Users\\User\\Desktop\\GitHub\\Hijab_Detection\\hijab\\images\\test-current\\niqab\\307.jpg: 640x448 1 niqab, 2.0ms\n",
      "image 8/34 C:\\Users\\User\\Desktop\\GitHub\\Hijab_Detection\\hijab\\images\\test-current\\niqab\\308.jpg: 640x480 1 niqab, 50.0ms\n",
      "image 9/34 C:\\Users\\User\\Desktop\\GitHub\\Hijab_Detection\\hijab\\images\\test-current\\niqab\\309.jpg: 640x448 1 niqab, 3.0ms\n",
      "image 10/34 C:\\Users\\User\\Desktop\\GitHub\\Hijab_Detection\\hijab\\images\\test-current\\niqab\\310.jpg: 448x640 1 niqab, 4.0ms\n",
      "image 11/34 C:\\Users\\User\\Desktop\\GitHub\\Hijab_Detection\\hijab\\images\\test-current\\niqab\\311.jpg: 640x448 1 niqab, 3.0ms\n",
      "image 12/34 C:\\Users\\User\\Desktop\\GitHub\\Hijab_Detection\\hijab\\images\\test-current\\niqab\\312.jpg: 448x640 1 niqab, 4.0ms\n",
      "image 13/34 C:\\Users\\User\\Desktop\\GitHub\\Hijab_Detection\\hijab\\images\\test-current\\niqab\\313.jpg: 640x448 1 niqab, 3.0ms\n",
      "image 14/34 C:\\Users\\User\\Desktop\\GitHub\\Hijab_Detection\\hijab\\images\\test-current\\niqab\\314.jpg: 384x640 1 niqab, 50.0ms\n",
      "image 15/34 C:\\Users\\User\\Desktop\\GitHub\\Hijab_Detection\\hijab\\images\\test-current\\niqab\\315.jpg: 448x640 3 niqabs, 4.0ms\n",
      "image 16/34 C:\\Users\\User\\Desktop\\GitHub\\Hijab_Detection\\hijab\\images\\test-current\\niqab\\316.jpg: 448x640 1 niqab, 4.0ms\n",
      "image 17/34 C:\\Users\\User\\Desktop\\GitHub\\Hijab_Detection\\hijab\\images\\test-current\\niqab\\317.jpg: 448x640 1 burqz, 4.0ms\n",
      "image 18/34 C:\\Users\\User\\Desktop\\GitHub\\Hijab_Detection\\hijab\\images\\test-current\\niqab\\318.jpg: 640x448 1 niqab, 3.0ms\n",
      "image 19/34 C:\\Users\\User\\Desktop\\GitHub\\Hijab_Detection\\hijab\\images\\test-current\\niqab\\319.jpg: 640x448 (no detections), 3.0ms\n",
      "image 20/34 C:\\Users\\User\\Desktop\\GitHub\\Hijab_Detection\\hijab\\images\\test-current\\niqab\\320.jpg: 448x640 1 niqab, 3.0ms\n",
      "image 21/34 C:\\Users\\User\\Desktop\\GitHub\\Hijab_Detection\\hijab\\images\\test-current\\niqab\\321.jpg: 448x640 2 niqabs, 2.0ms\n",
      "image 22/34 C:\\Users\\User\\Desktop\\GitHub\\Hijab_Detection\\hijab\\images\\test-current\\niqab\\322.jpg: 640x448 1 niqab, 5.0ms\n",
      "image 23/34 C:\\Users\\User\\Desktop\\GitHub\\Hijab_Detection\\hijab\\images\\test-current\\niqab\\323.jpg: 448x640 2 niqabs, 4.0ms\n",
      "image 24/34 C:\\Users\\User\\Desktop\\GitHub\\Hijab_Detection\\hijab\\images\\test-current\\niqab\\324.jpg: 640x448 1 niqab, 3.0ms\n",
      "image 25/34 C:\\Users\\User\\Desktop\\GitHub\\Hijab_Detection\\hijab\\images\\test-current\\niqab\\325.jpg: 384x640 1 niqab, 2.0ms\n",
      "image 26/34 C:\\Users\\User\\Desktop\\GitHub\\Hijab_Detection\\hijab\\images\\test-current\\niqab\\81.jpeg: 384x640 1 chador, 2 niqabs, 4.0ms\n",
      "image 27/34 C:\\Users\\User\\Desktop\\GitHub\\Hijab_Detection\\hijab\\images\\test-current\\niqab\\82.jpeg: 416x640 2 niqabs, 52.0ms\n",
      "image 28/34 C:\\Users\\User\\Desktop\\GitHub\\Hijab_Detection\\hijab\\images\\test-current\\niqab\\83.jpeg: 416x640 2 chadors, 3.0ms\n",
      "image 29/34 C:\\Users\\User\\Desktop\\GitHub\\Hijab_Detection\\hijab\\images\\test-current\\niqab\\84.jpeg: 352x640 1 niqab, 49.0ms\n",
      "image 30/34 C:\\Users\\User\\Desktop\\GitHub\\Hijab_Detection\\hijab\\images\\test-current\\niqab\\85.jpeg: 448x640 1 burqz, 1 niqab, 4.1ms\n",
      "image 31/34 C:\\Users\\User\\Desktop\\GitHub\\Hijab_Detection\\hijab\\images\\test-current\\niqab\\86.jpeg: 384x640 1 niqab, 4.0ms\n",
      "image 32/34 C:\\Users\\User\\Desktop\\GitHub\\Hijab_Detection\\hijab\\images\\test-current\\niqab\\87.jpeg: 448x640 1 niqab, 4.0ms\n",
      "image 33/34 C:\\Users\\User\\Desktop\\GitHub\\Hijab_Detection\\hijab\\images\\test-current\\niqab\\88.jpeg: 640x480 1 niqab, 3.0ms\n",
      "image 34/34 C:\\Users\\User\\Desktop\\GitHub\\Hijab_Detection\\hijab\\images\\test-current\\niqab\\89.jpeg: 640x544 1 niqab, 37.5ms\n",
      "Speed: 0.3ms pre-process, 13.9ms inference, 0.4ms NMS per image at shape (1, 3, 640, 640)\n",
      "Results saved to \u001b[1myolov5\\runs\\detect\\exp8\u001b[0m\n"
     ]
    }
   ],
   "source": [
    "# 새 모델: 전체 데이터 - niqab\n",
    "!python ./yolov5/detect.py --weights ./yolov5/runs/train/hijab_yolov5s_results/weights/best.pt --source \"C:/Users/User/Desktop/GitHub/Hijab_Detection/hijab/images/test-current/niqab/\""
   ]
  },
  {
   "cell_type": "code",
   "execution_count": null,
   "id": "0e8a9094",
   "metadata": {},
   "outputs": [],
   "source": []
  }
 ],
 "metadata": {
  "kernelspec": {
   "display_name": "Python 3 (ipykernel)",
   "language": "python",
   "name": "python3"
  },
  "language_info": {
   "codemirror_mode": {
    "name": "ipython",
    "version": 3
   },
   "file_extension": ".py",
   "mimetype": "text/x-python",
   "name": "python",
   "nbconvert_exporter": "python",
   "pygments_lexer": "ipython3",
   "version": "3.10.11"
  }
 },
 "nbformat": 4,
 "nbformat_minor": 5
}
